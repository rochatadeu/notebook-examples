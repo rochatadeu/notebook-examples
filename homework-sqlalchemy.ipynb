{
 "cells": [
  {
   "cell_type": "markdown",
   "metadata": {
    "collapsed": true
   },
   "source": [
    "Sentence count for puppies and kittens into a SQL database\n",
    "=====================\n",
    "2016 - U.S. Mainstream Media"
   ]
  },
  {
   "cell_type": "code",
   "execution_count": 23,
   "metadata": {
    "collapsed": true
   },
   "outputs": [],
   "source": [
    "import mediacloud\n",
    "from API_config import MY_API_KEY\n",
    "\n",
    "mc = mediacloud.api.MediaCloud(MY_API_KEY)\n",
    "dtres = mc.sentenceCount('kittens', '+publish_date:[2016-01-01T00:00:00Z TO 2016-12-31T00:00:00Z} AND +tags_id_media:1')\n",
    "kittens = dtres['count']\n",
    "hcres = mc.sentenceCount('puppies', '+publish_date:[2016-01-01T00:00:00Z TO 2016-12-31T00:00:00Z} AND +tags_id_media:1')\n",
    "puppies = hcres['count']"
   ]
  },
  {
   "cell_type": "markdown",
   "metadata": {},
   "source": [
    "Importing SQLAlchemy and datetime\n",
    "====================="
   ]
  },
  {
   "cell_type": "code",
   "execution_count": 24,
   "metadata": {
    "collapsed": false
   },
   "outputs": [],
   "source": [
    "from sqlalchemy import *\n",
    "import datetime"
   ]
  },
  {
   "cell_type": "markdown",
   "metadata": {},
   "source": [
    "## Basic SQL Generation\n"
   ]
  },
  {
   "cell_type": "markdown",
   "metadata": {},
   "source": [
    "### Creating a Table\n"
   ]
  },
  {
   "cell_type": "code",
   "execution_count": 25,
   "metadata": {
    "collapsed": false
   },
   "outputs": [
    {
     "name": "stdout",
     "output_type": "stream",
     "text": [
      "2016-12-08 11:06:24,692 INFO sqlalchemy.engine.base.Engine SELECT CAST('test plain returns' AS VARCHAR(60)) AS anon_1\n",
      "2016-12-08 11:06:24,695 INFO sqlalchemy.engine.base.Engine ()\n",
      "2016-12-08 11:06:24,699 INFO sqlalchemy.engine.base.Engine SELECT CAST('test unicode returns' AS VARCHAR(60)) AS anon_1\n",
      "2016-12-08 11:06:24,701 INFO sqlalchemy.engine.base.Engine ()\n",
      "2016-12-08 11:06:24,704 INFO sqlalchemy.engine.base.Engine PRAGMA table_info(\"queries\")\n",
      "2016-12-08 11:06:24,706 INFO sqlalchemy.engine.base.Engine ()\n",
      "2016-12-08 11:06:24,710 INFO sqlalchemy.engine.base.Engine \n",
      "CREATE TABLE queries (\n",
      "\tid INTEGER NOT NULL, \n",
      "\tkeywords VARCHAR(400) NOT NULL, \n",
      "\tsentences INTEGER NOT NULL, \n",
      "\ttimestamp DATETIME, \n",
      "\tPRIMARY KEY (id)\n",
      ")\n",
      "\n",
      "\n",
      "2016-12-08 11:06:24,711 INFO sqlalchemy.engine.base.Engine ()\n",
      "2016-12-08 11:06:24,712 INFO sqlalchemy.engine.base.Engine COMMIT\n"
     ]
    }
   ],
   "source": [
    "# add `echo=True` to see log statements of all the SQL that is generated\n",
    "engine = create_engine('sqlite:///:memory:',echo=True) # just save the db in memory for now (ie. not on disk)\n",
    "metadata = MetaData()\n",
    "# define a table to use\n",
    "queries = Table('queries', metadata,\n",
    "    Column('id', Integer, primary_key=True),\n",
    "    Column('keywords', String(400), nullable=False),\n",
    "    Column('sentences', Integer, nullable=False),\n",
    "    Column('timestamp', DateTime, default=datetime.datetime.now),\n",
    ")\n",
    "metadata.create_all(engine) # and create the tables in the database"
   ]
  },
  {
   "cell_type": "markdown",
   "metadata": {},
   "source": [
    "### Inserting Data\n"
   ]
  },
  {
   "cell_type": "code",
   "execution_count": 26,
   "metadata": {
    "collapsed": false
   },
   "outputs": [
    {
     "data": {
      "text/plain": [
       "'INSERT INTO queries (id, keywords, sentences, timestamp) VALUES (:id, :keywords, :sentences, :timestamp)'"
      ]
     },
     "execution_count": 26,
     "metadata": {},
     "output_type": "execute_result"
    }
   ],
   "source": [
    "insert_stmt = queries.insert()\n",
    "str(insert_stmt) # see an example of what this will do"
   ]
  },
  {
   "cell_type": "code",
   "execution_count": 27,
   "metadata": {
    "collapsed": false
   },
   "outputs": [
    {
     "data": {
      "text/plain": [
       "'INSERT INTO queries (keywords, sentences, timestamp) VALUES (:keywords, :sentences, :timestamp)'"
      ]
     },
     "execution_count": 27,
     "metadata": {},
     "output_type": "execute_result"
    }
   ],
   "source": [
    "insert_stmt = queries.insert().values(keywords=\"puppies\", sentences=puppies)\n",
    "str(insert_stmt)"
   ]
  },
  {
   "cell_type": "code",
   "execution_count": 28,
   "metadata": {
    "collapsed": false
   },
   "outputs": [
    {
     "name": "stdout",
     "output_type": "stream",
     "text": [
      "2016-12-08 11:08:28,408 INFO sqlalchemy.engine.base.Engine INSERT INTO queries (keywords, sentences, timestamp) VALUES (?, ?, ?)\n",
      "2016-12-08 11:08:28,409 INFO sqlalchemy.engine.base.Engine ('puppies', 7456, '2016-12-08 11:08:28.408440')\n",
      "2016-12-08 11:08:28,411 INFO sqlalchemy.engine.base.Engine COMMIT\n"
     ]
    },
    {
     "data": {
      "text/plain": [
       "[1]"
      ]
     },
     "execution_count": 28,
     "metadata": {},
     "output_type": "execute_result"
    }
   ],
   "source": [
    "db_conn = engine.connect()\n",
    "result = db_conn.execute(insert_stmt)\n",
    "result.inserted_primary_key # print out the primary key it was assigned"
   ]
  },
  {
   "cell_type": "code",
   "execution_count": 29,
   "metadata": {
    "collapsed": false
   },
   "outputs": [
    {
     "name": "stdout",
     "output_type": "stream",
     "text": [
      "2016-12-08 11:08:48,490 INFO sqlalchemy.engine.base.Engine INSERT INTO queries (keywords, sentences, timestamp) VALUES (?, ?, ?)\n",
      "2016-12-08 11:08:48,491 INFO sqlalchemy.engine.base.Engine ('kittens', 3980, '2016-12-08 11:08:48.490490')\n",
      "2016-12-08 11:08:48,493 INFO sqlalchemy.engine.base.Engine COMMIT\n"
     ]
    },
    {
     "data": {
      "text/plain": [
       "[2]"
      ]
     },
     "execution_count": 29,
     "metadata": {},
     "output_type": "execute_result"
    }
   ],
   "source": [
    "insert_stmt = queries.insert().values(keywords=\"kittens\", sentences=kittens)\n",
    "result = db_conn.execute(insert_stmt)\n",
    "result.inserted_primary_key # print out the primary key it was assigned"
   ]
  },
  {
   "cell_type": "markdown",
   "metadata": {},
   "source": [
    "### Retrieving Data\n"
   ]
  },
  {
   "cell_type": "code",
   "execution_count": 30,
   "metadata": {
    "collapsed": false
   },
   "outputs": [
    {
     "name": "stdout",
     "output_type": "stream",
     "text": [
      "2016-12-08 11:08:55,615 INFO sqlalchemy.engine.base.Engine SELECT queries.id, queries.keywords, queries.sentences, queries.timestamp \n",
      "FROM queries\n",
      "2016-12-08 11:08:55,616 INFO sqlalchemy.engine.base.Engine ()\n",
      "(1, u'puppies', 7456, datetime.datetime(2016, 12, 8, 11, 8, 28, 408440))\n",
      "(2, u'kittens', 3980, datetime.datetime(2016, 12, 8, 11, 8, 48, 490490))\n"
     ]
    }
   ],
   "source": [
    "from sqlalchemy.sql import select\n",
    "select_stmt = select([queries])\n",
    "results = db_conn.execute(select_stmt)\n",
    "for row in results:\n",
    "    print row"
   ]
  },
  {
   "cell_type": "code",
   "execution_count": 31,
   "metadata": {
    "collapsed": false
   },
   "outputs": [
    {
     "name": "stdout",
     "output_type": "stream",
     "text": [
      "2016-12-08 11:09:08,101 INFO sqlalchemy.engine.base.Engine SELECT queries.id, queries.keywords, queries.sentences, queries.timestamp \n",
      "FROM queries \n",
      "WHERE queries.id = ?\n",
      "2016-12-08 11:09:08,103 INFO sqlalchemy.engine.base.Engine (1,)\n",
      "(1, u'puppies', 7456, datetime.datetime(2016, 12, 8, 11, 8, 28, 408440))\n"
     ]
    }
   ],
   "source": [
    "select_stmt = select([queries]).where(queries.c.id==1)\n",
    "for row in db_conn.execute(select_stmt):\n",
    "    print row"
   ]
  },
  {
   "cell_type": "code",
   "execution_count": 33,
   "metadata": {
    "collapsed": false
   },
   "outputs": [
    {
     "name": "stdout",
     "output_type": "stream",
     "text": [
      "2016-12-08 11:09:21,768 INFO sqlalchemy.engine.base.Engine SELECT queries.id, queries.keywords, queries.sentences, queries.timestamp \n",
      "FROM queries \n",
      "WHERE queries.keywords LIKE ?\n",
      "2016-12-08 11:09:21,769 INFO sqlalchemy.engine.base.Engine ('k%',)\n",
      "(2, u'kittens', 3980, datetime.datetime(2016, 12, 8, 11, 8, 48, 490490))\n"
     ]
    }
   ],
   "source": [
    "select_stmt = select([queries]).where(queries.c.keywords.like('k%'))\n",
    "for row in db_conn.execute(select_stmt):\n",
    "    print row"
   ]
  },
  {
   "cell_type": "code",
   "execution_count": null,
   "metadata": {
    "collapsed": true
   },
   "outputs": [],
   "source": []
  }
 ],
 "metadata": {
  "kernelspec": {
   "display_name": "Python 2",
   "language": "python",
   "name": "python2"
  },
  "language_info": {
   "codemirror_mode": {
    "name": "ipython",
    "version": 2
   },
   "file_extension": ".py",
   "mimetype": "text/x-python",
   "name": "python",
   "nbconvert_exporter": "python",
   "pygments_lexer": "ipython2",
   "version": "2.7.12"
  }
 },
 "nbformat": 4,
 "nbformat_minor": 0
}
